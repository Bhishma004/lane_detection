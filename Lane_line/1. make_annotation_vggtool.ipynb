{
 "cells": [
  {
   "cell_type": "code",
   "execution_count": 1,
   "id": "f1b96097",
   "metadata": {},
   "outputs": [],
   "source": [
    "import json\n",
    "import numpy as np\n",
    "from PIL import Image, ImageDraw\n",
    "import matplotlib.pyplot as plt\n",
    "import cv2"
   ]
  },
  {
   "cell_type": "code",
   "execution_count": 2,
   "id": "24300bc1",
   "metadata": {},
   "outputs": [],
   "source": [
    "# https://www.robots.ox.ac.uk/~vgg/software/via/via.html"
   ]
  },
  {
   "cell_type": "code",
   "execution_count": 3,
   "id": "c9ae118d",
   "metadata": {},
   "outputs": [],
   "source": [
    "# Load the image\n",
    "image = Image.open(\"masking_vgg/3.png\")\n",
    "\n",
    "# Parse the JSON data\n",
    "with open(\"masking_vgg/3.json\", \"r\") as f:\n",
    "    data = json.load(f)"
   ]
  },
  {
   "cell_type": "code",
   "execution_count": 7,
   "id": "dd561b27",
   "metadata": {
    "scrolled": true
   },
   "outputs": [
    {
     "data": {
      "text/plain": [
       "{'3.png1206246': {'filename': '3.png',\n",
       "  'size': 1206246,\n",
       "  'regions': [{'shape_attributes': {'name': 'polyline',\n",
       "     'all_points_x': [199,\n",
       "      365,\n",
       "      444,\n",
       "      448,\n",
       "      446,\n",
       "      511,\n",
       "      643,\n",
       "      799,\n",
       "      932,\n",
       "      982,\n",
       "      611,\n",
       "      374,\n",
       "      193,\n",
       "      191,\n",
       "      182],\n",
       "     'all_points_y': [723,\n",
       "      591,\n",
       "      513,\n",
       "      479,\n",
       "      473,\n",
       "      467,\n",
       "      508,\n",
       "      596,\n",
       "      687,\n",
       "      716,\n",
       "      710,\n",
       "      726,\n",
       "      724,\n",
       "      724,\n",
       "      723]},\n",
       "    'region_attributes': {}}],\n",
       "  'file_attributes': {}}}"
      ]
     },
     "execution_count": 7,
     "metadata": {},
     "output_type": "execute_result"
    }
   ],
   "source": [
    "data"
   ]
  },
  {
   "cell_type": "code",
   "execution_count": 8,
   "id": "4227f0b3",
   "metadata": {},
   "outputs": [],
   "source": [
    "# Create a new binary mask image\n",
    "mask = Image.new(\"RGB\", image.size, (0, 0, 0))\n",
    "\n",
    "# Draw the polygon on the mask image\n",
    "draw = ImageDraw.Draw(mask)\n",
    "for region in data['3.png1206246'][\"regions\"]:\n",
    "    x = region[\"shape_attributes\"][\"all_points_x\"]\n",
    "    y = region[\"shape_attributes\"][\"all_points_y\"]\n",
    "    xy = list(zip(x, y))\n",
    "    if region[\"region_attributes\"] == {}:\n",
    "        color = (223, 19, 250)  # Yellow for the road\n",
    "    elif region['file_attributes'] == {}:\n",
    "        color = (217, 163, 198)  # Brown for the lane markings\n",
    "    draw.polygon(xy, fill=color)"
   ]
  },
  {
   "cell_type": "code",
   "execution_count": 9,
   "id": "b4c699ce",
   "metadata": {},
   "outputs": [
    {
     "data": {
      "text/plain": [
       "<matplotlib.image.AxesImage at 0x13b449103c8>"
      ]
     },
     "execution_count": 9,
     "metadata": {},
     "output_type": "execute_result"
    },
    {
     "data": {
      "image/png": "[encoded data removed]",
      "text/plain": [
       "<Figure size 432x288 with 1 Axes>"
      ]
     },
     "metadata": {
      "needs_background": "light"
     },
     "output_type": "display_data"
    }
   ],
   "source": [
    "plt.imshow(mask)"
   ]
  },
  {
   "cell_type": "code",
   "execution_count": 18,
   "id": "f340db22",
   "metadata": {},
   "outputs": [],
   "source": [
    "# mask.save(\"3_mask.png\")"
   ]
  },
  {
   "cell_type": "code",
   "execution_count": null,
   "id": "1da8c73c",
   "metadata": {},
   "outputs": [],
   "source": []
  }
 ],
 "metadata": {
  "kernelspec": {
   "display_name": "Python 3 (ipykernel)",
   "language": "python",
   "name": "python3"
  },
  "language_info": {
   "codemirror_mode": {
    "name": "ipython",
    "version": 3
   },
   "file_extension": ".py",
   "mimetype": "text/x-python",
   "name": "python",
   "nbconvert_exporter": "python",
   "pygments_lexer": "ipython3",
   "version": "3.7.7"
  }
 },
 "nbformat": 4,
 "nbformat_minor": 5
}
